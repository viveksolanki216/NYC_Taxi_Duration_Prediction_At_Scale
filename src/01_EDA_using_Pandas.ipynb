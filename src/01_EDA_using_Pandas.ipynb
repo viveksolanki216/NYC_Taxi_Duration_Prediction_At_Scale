{
 "cells": [
  {
   "cell_type": "markdown",
   "id": "7c1c73fb-c026-46f5-b077-1b70b8b1f62f",
   "metadata": {},
   "source": [
    "# EDA Using Pandas\n",
    "- Pandas Dataframe is not scalable for large datasets.\n",
    "- Parquet files are usually 10% to 50% in size v/s csv files for the same dataset\n",
    "- Though you can load one or two files and get feel of the data for future tasks.\n",
    "- The Jupyter Notebook kernel is dying since machine is small and couldn't handle analysing a single file."
   ]
  },
  {
   "cell_type": "code",
   "execution_count": 1,
   "id": "8fccd7c4-0a25-469a-8110-1533f636619f",
   "metadata": {},
   "outputs": [],
   "source": [
    "import pandas as pd\n",
    "import boto3"
   ]
  },
  {
   "cell_type": "code",
   "execution_count": 2,
   "id": "87adff54-926f-4d0c-a9a9-d16ba516ea5c",
   "metadata": {},
   "outputs": [],
   "source": [
    "boto_session = boto3.session.Session()\n",
    "s3_client = boto_session.client('s3')"
   ]
  },
  {
   "cell_type": "code",
   "id": "2a5dc1af-df4c-4b23-9d99-c49dfaaaeba0",
   "metadata": {},
   "source": [
    "BUCKET = \"sagemaker-us-east-1-205930620783\"\n",
    "PREFIX = \"NYC_Taxi_Prediction/data/raw_data\"\n",
    "response = s3_client.list_objects_v2(Bucket=BUCKET, Prefix=PREFIX)\n",
    "#print(response)\n",
    "\n",
    "files = [f\"s3://{BUCKET}/{obj['Key']}\" for obj in response['Contents'] if obj['Key'].endswith('.parquet')]\n",
    "print(files[0])"
   ],
   "outputs": [],
   "execution_count": null
  },
  {
   "cell_type": "markdown",
   "id": "d7aa5c55-0cd9-4165-ab16-6561cd4ae257",
   "metadata": {},
   "source": [
    "### Parquet files are 10% to 50% in size for the same dataset for csv"
   ]
  },
  {
   "cell_type": "code",
   "execution_count": null,
   "id": "6b1b1245-56c8-4d0b-801c-a23a62f8e720",
   "metadata": {},
   "outputs": [],
   "source": [
    "data = pd.read_parquet(files[0])#.head(10000)\n",
    "data.head(10)\n",
    "#data.to_csv(\"temp.csv\")"
   ]
  },
  {
   "cell_type": "code",
   "execution_count": null,
   "id": "d347070f-1cab-4a6e-bda8-a8d8442b0955",
   "metadata": {},
   "outputs": [],
   "source": [
    "print(data.shape)\n",
    "print(data.size / 1000000)\n",
    "print(data.dtypes)"
   ]
  },
  {
   "cell_type": "code",
   "execution_count": null,
   "id": "6305f4b7-6e9d-4b19-8648-d59eb1ba3924",
   "metadata": {},
   "outputs": [],
   "source": [
    "print(data['VendorID'].value_counts())\n",
    "print(data['tpep_pickup_datetime'].min(), data['tpep_pickup_datetime'].max())\n"
   ]
  },
  {
   "cell_type": "code",
   "execution_count": null,
   "id": "9dac8030-e8c8-4c79-a94a-7f0f08860600",
   "metadata": {},
   "outputs": [],
   "source": [
    "time_filter = (data['tpep_pickup_datetime'] >= pd.to_datetime(\"2019-01-01\")) & (data['tpep_pickup_datetime'] <= pd.to_datetime(\"2019-01-31\"))\n",
    "print(data[time_filter].shape)\n",
    "data[time_filter]"
   ]
  }
 ],
 "metadata": {
  "kernelspec": {
   "display_name": "Python 3 (ipykernel)",
   "language": "python",
   "name": "python3"
  },
  "language_info": {
   "codemirror_mode": {
    "name": "ipython",
    "version": 3
   },
   "file_extension": ".py",
   "mimetype": "text/x-python",
   "name": "python",
   "nbconvert_exporter": "python",
   "pygments_lexer": "ipython3",
   "version": "3.12.9"
  }
 },
 "nbformat": 4,
 "nbformat_minor": 5
}
