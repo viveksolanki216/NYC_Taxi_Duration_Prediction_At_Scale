{
 "cells": [
  {
   "cell_type": "code",
   "execution_count": 4,
   "id": "b3b1415e-e6b9-4075-9c05-08fb8dc3efda",
   "metadata": {},
   "outputs": [
    {
     "data": {
      "text/plain": [
       "'/home/sagemaker-user/Code/NYC_Taxi_Prediction'"
      ]
     },
     "execution_count": 4,
     "metadata": {},
     "output_type": "execute_result"
    }
   ],
   "source": [
    "import pandas as pd\n",
    "import os\n",
    "os.getcwd()"
   ]
  },
  {
   "cell_type": "code",
   "execution_count": 5,
   "id": "dd45c322-9d75-46d7-a232-ccc1354a6a5b",
   "metadata": {},
   "outputs": [],
   "source": [
    "data = pd.read_parquet(\"/home/sagemaker-user/Code/NYC_Taxi_Prediction/data/train_data/\")"
   ]
  },
  {
   "cell_type": "code",
   "execution_count": 6,
   "id": "11cbd464-07ed-4b5c-945b-17f63a9145df",
   "metadata": {},
   "outputs": [
    {
     "data": {
      "text/plain": [
       "(144920, 15)"
      ]
     },
     "execution_count": 6,
     "metadata": {},
     "output_type": "execute_result"
    }
   ],
   "source": [
    "data.shape"
   ]
  },
  {
   "cell_type": "code",
   "execution_count": 7,
   "id": "2d2fadcb-6d4a-4511-889b-7f41b77891af",
   "metadata": {},
   "outputs": [
    {
     "data": {
      "text/plain": [
       "Index(['trip_duration_mins', 'tpep_pickup_datetime', 'tpep_dropoff_datetime',\n",
       "       'pulocationid', 'dolocationid', 'passenger_count', 'trip_distance',\n",
       "       'vendorid', 'ratecodeid', 'day_of_week', 'day_of_month',\n",
       "       'month_of_year', 'hour_of_day', 'week_of_year', 'features'],\n",
       "      dtype='object')"
      ]
     },
     "execution_count": 7,
     "metadata": {},
     "output_type": "execute_result"
    }
   ],
   "source": [
    "data.columns"
   ]
  },
  {
   "cell_type": "code",
   "execution_count": 18,
   "id": "0594d3a4-65b2-46f4-9b27-5769e20a9d2c",
   "metadata": {},
   "outputs": [
    {
     "data": {
      "text/html": [
       "<div>\n",
       "<style scoped>\n",
       "    .dataframe tbody tr th:only-of-type {\n",
       "        vertical-align: middle;\n",
       "    }\n",
       "\n",
       "    .dataframe tbody tr th {\n",
       "        vertical-align: top;\n",
       "    }\n",
       "\n",
       "    .dataframe thead th {\n",
       "        text-align: right;\n",
       "    }\n",
       "</style>\n",
       "<table border=\"1\" class=\"dataframe\">\n",
       "  <thead>\n",
       "    <tr style=\"text-align: right;\">\n",
       "      <th></th>\n",
       "      <th>trip_duration_mins</th>\n",
       "      <th>tpep_pickup_datetime</th>\n",
       "      <th>tpep_dropoff_datetime</th>\n",
       "      <th>pulocationid</th>\n",
       "      <th>dolocationid</th>\n",
       "      <th>passenger_count</th>\n",
       "      <th>trip_distance</th>\n",
       "      <th>vendorid</th>\n",
       "      <th>ratecodeid</th>\n",
       "      <th>day_of_week</th>\n",
       "      <th>day_of_month</th>\n",
       "      <th>month_of_year</th>\n",
       "      <th>hour_of_day</th>\n",
       "      <th>week_of_year</th>\n",
       "    </tr>\n",
       "  </thead>\n",
       "  <tbody>\n",
       "    <tr>\n",
       "      <th>count</th>\n",
       "      <td>144920.000000</td>\n",
       "      <td>144920</td>\n",
       "      <td>144920</td>\n",
       "      <td>144920.000000</td>\n",
       "      <td>144920.000000</td>\n",
       "      <td>144920.000000</td>\n",
       "      <td>144920.000000</td>\n",
       "      <td>144920.000000</td>\n",
       "      <td>144920.000000</td>\n",
       "      <td>144920.0</td>\n",
       "      <td>144920.0</td>\n",
       "      <td>144920.0</td>\n",
       "      <td>144920.000000</td>\n",
       "      <td>144920.0</td>\n",
       "    </tr>\n",
       "    <tr>\n",
       "      <th>mean</th>\n",
       "      <td>13.351028</td>\n",
       "      <td>2019-09-01 13:55:23.383956736</td>\n",
       "      <td>2019-09-01 14:08:44.445659648</td>\n",
       "      <td>155.566078</td>\n",
       "      <td>152.988476</td>\n",
       "      <td>1.670011</td>\n",
       "      <td>3.467067</td>\n",
       "      <td>1.663435</td>\n",
       "      <td>1.055707</td>\n",
       "      <td>1.0</td>\n",
       "      <td>1.0</td>\n",
       "      <td>9.0</td>\n",
       "      <td>13.420384</td>\n",
       "      <td>35.0</td>\n",
       "    </tr>\n",
       "    <tr>\n",
       "      <th>min</th>\n",
       "      <td>1.000000</td>\n",
       "      <td>2019-09-01 00:00:00</td>\n",
       "      <td>2019-09-01 00:01:06</td>\n",
       "      <td>1.000000</td>\n",
       "      <td>1.000000</td>\n",
       "      <td>0.000000</td>\n",
       "      <td>0.000000</td>\n",
       "      <td>1.000000</td>\n",
       "      <td>1.000000</td>\n",
       "      <td>1.0</td>\n",
       "      <td>1.0</td>\n",
       "      <td>9.0</td>\n",
       "      <td>0.000000</td>\n",
       "      <td>35.0</td>\n",
       "    </tr>\n",
       "    <tr>\n",
       "      <th>25%</th>\n",
       "      <td>6.367000</td>\n",
       "      <td>2019-09-01 10:12:49.750000128</td>\n",
       "      <td>2019-09-01 10:24:02.500000</td>\n",
       "      <td>107.000000</td>\n",
       "      <td>90.000000</td>\n",
       "      <td>1.000000</td>\n",
       "      <td>1.100000</td>\n",
       "      <td>1.000000</td>\n",
       "      <td>1.000000</td>\n",
       "      <td>1.0</td>\n",
       "      <td>1.0</td>\n",
       "      <td>9.0</td>\n",
       "      <td>10.000000</td>\n",
       "      <td>35.0</td>\n",
       "    </tr>\n",
       "    <tr>\n",
       "      <th>50%</th>\n",
       "      <td>10.617000</td>\n",
       "      <td>2019-09-01 14:55:43</td>\n",
       "      <td>2019-09-01 15:10:21</td>\n",
       "      <td>158.000000</td>\n",
       "      <td>158.000000</td>\n",
       "      <td>1.000000</td>\n",
       "      <td>1.900000</td>\n",
       "      <td>2.000000</td>\n",
       "      <td>1.000000</td>\n",
       "      <td>1.0</td>\n",
       "      <td>1.0</td>\n",
       "      <td>9.0</td>\n",
       "      <td>14.000000</td>\n",
       "      <td>35.0</td>\n",
       "    </tr>\n",
       "    <tr>\n",
       "      <th>75%</th>\n",
       "      <td>17.367000</td>\n",
       "      <td>2019-09-01 19:05:29</td>\n",
       "      <td>2019-09-01 19:19:52</td>\n",
       "      <td>230.000000</td>\n",
       "      <td>230.000000</td>\n",
       "      <td>2.000000</td>\n",
       "      <td>3.700000</td>\n",
       "      <td>2.000000</td>\n",
       "      <td>1.000000</td>\n",
       "      <td>1.0</td>\n",
       "      <td>1.0</td>\n",
       "      <td>9.0</td>\n",
       "      <td>19.000000</td>\n",
       "      <td>35.0</td>\n",
       "    </tr>\n",
       "    <tr>\n",
       "      <th>max</th>\n",
       "      <td>60.000000</td>\n",
       "      <td>2019-09-01 23:59:57</td>\n",
       "      <td>2019-09-02 00:50:22</td>\n",
       "      <td>265.000000</td>\n",
       "      <td>265.000000</td>\n",
       "      <td>6.000000</td>\n",
       "      <td>57.140000</td>\n",
       "      <td>2.000000</td>\n",
       "      <td>99.000000</td>\n",
       "      <td>1.0</td>\n",
       "      <td>1.0</td>\n",
       "      <td>9.0</td>\n",
       "      <td>23.000000</td>\n",
       "      <td>35.0</td>\n",
       "    </tr>\n",
       "    <tr>\n",
       "      <th>std</th>\n",
       "      <td>9.805103</td>\n",
       "      <td>NaN</td>\n",
       "      <td>NaN</td>\n",
       "      <td>66.827159</td>\n",
       "      <td>72.174834</td>\n",
       "      <td>1.256017</td>\n",
       "      <td>4.239497</td>\n",
       "      <td>0.472536</td>\n",
       "      <td>0.700990</td>\n",
       "      <td>0.0</td>\n",
       "      <td>0.0</td>\n",
       "      <td>0.0</td>\n",
       "      <td>6.572524</td>\n",
       "      <td>0.0</td>\n",
       "    </tr>\n",
       "  </tbody>\n",
       "</table>\n",
       "</div>"
      ],
      "text/plain": [
       "       trip_duration_mins           tpep_pickup_datetime  \\\n",
       "count       144920.000000                         144920   \n",
       "mean            13.351028  2019-09-01 13:55:23.383956736   \n",
       "min              1.000000            2019-09-01 00:00:00   \n",
       "25%              6.367000  2019-09-01 10:12:49.750000128   \n",
       "50%             10.617000            2019-09-01 14:55:43   \n",
       "75%             17.367000            2019-09-01 19:05:29   \n",
       "max             60.000000            2019-09-01 23:59:57   \n",
       "std              9.805103                            NaN   \n",
       "\n",
       "               tpep_dropoff_datetime   pulocationid   dolocationid  \\\n",
       "count                         144920  144920.000000  144920.000000   \n",
       "mean   2019-09-01 14:08:44.445659648     155.566078     152.988476   \n",
       "min              2019-09-01 00:01:06       1.000000       1.000000   \n",
       "25%       2019-09-01 10:24:02.500000     107.000000      90.000000   \n",
       "50%              2019-09-01 15:10:21     158.000000     158.000000   \n",
       "75%              2019-09-01 19:19:52     230.000000     230.000000   \n",
       "max              2019-09-02 00:50:22     265.000000     265.000000   \n",
       "std                              NaN      66.827159      72.174834   \n",
       "\n",
       "       passenger_count  trip_distance       vendorid     ratecodeid  \\\n",
       "count    144920.000000  144920.000000  144920.000000  144920.000000   \n",
       "mean          1.670011       3.467067       1.663435       1.055707   \n",
       "min           0.000000       0.000000       1.000000       1.000000   \n",
       "25%           1.000000       1.100000       1.000000       1.000000   \n",
       "50%           1.000000       1.900000       2.000000       1.000000   \n",
       "75%           2.000000       3.700000       2.000000       1.000000   \n",
       "max           6.000000      57.140000       2.000000      99.000000   \n",
       "std           1.256017       4.239497       0.472536       0.700990   \n",
       "\n",
       "       day_of_week  day_of_month  month_of_year    hour_of_day  week_of_year  \n",
       "count     144920.0      144920.0       144920.0  144920.000000      144920.0  \n",
       "mean           1.0           1.0            9.0      13.420384          35.0  \n",
       "min            1.0           1.0            9.0       0.000000          35.0  \n",
       "25%            1.0           1.0            9.0      10.000000          35.0  \n",
       "50%            1.0           1.0            9.0      14.000000          35.0  \n",
       "75%            1.0           1.0            9.0      19.000000          35.0  \n",
       "max            1.0           1.0            9.0      23.000000          35.0  \n",
       "std            0.0           0.0            0.0       6.572524           0.0  "
      ]
     },
     "execution_count": 18,
     "metadata": {},
     "output_type": "execute_result"
    }
   ],
   "source": [
    "data.describe()"
   ]
  },
  {
   "cell_type": "code",
   "execution_count": 9,
   "id": "56617014-279b-4424-bc28-f6901e67c5d9",
   "metadata": {},
   "outputs": [
    {
     "data": {
      "text/plain": [
       "{'type': 0,\n",
       " 'size': 9332,\n",
       " 'indices': array([30], dtype=int32),\n",
       " 'values': array([1.])}"
      ]
     },
     "execution_count": 9,
     "metadata": {},
     "output_type": "execute_result"
    }
   ],
   "source": [
    "data.head()['features'][2]"
   ]
  },
  {
   "cell_type": "code",
   "execution_count": 10,
   "id": "e6cd0331-eaab-4d26-8a0c-aca69533e96f",
   "metadata": {},
   "outputs": [
    {
     "data": {
      "text/plain": [
       "trip_duration_mins              float64\n",
       "tpep_pickup_datetime     datetime64[ns]\n",
       "tpep_dropoff_datetime    datetime64[ns]\n",
       "pulocationid                      int32\n",
       "dolocationid                      int32\n",
       "passenger_count                   int32\n",
       "trip_distance                   float64\n",
       "vendorid                          int32\n",
       "ratecodeid                        int32\n",
       "day_of_week                       int32\n",
       "day_of_month                      int32\n",
       "month_of_year                     int32\n",
       "hour_of_day                       int32\n",
       "week_of_year                      int32\n",
       "features                         object\n",
       "dtype: object"
      ]
     },
     "execution_count": 10,
     "metadata": {},
     "output_type": "execute_result"
    }
   ],
   "source": [
    "data.dtypes"
   ]
  },
  {
   "cell_type": "code",
   "execution_count": 124,
   "id": "e2b760a2-82e6-4764-a7e3-36e3adf2a7e1",
   "metadata": {},
   "outputs": [],
   "source": [
    "from scipy.sparse import vstack, csr_matrix, hstack\n",
    "import numpy as np\n",
    "\n",
    "# Prints the available elements only of a CSR matrix\n",
    "def print_csr_matrix(X):\n",
    "    for i in range(X.shape[0]):\n",
    "        start = X.indptr[i]\n",
    "        end = X.indptr[i+1]\n",
    "        cols = X.indices[start:end]\n",
    "        vals = X.data[start:end]\n",
    "        print(f\"Row {i}: {list(zip(cols, vals))}\")\n",
    "\n",
    "# converts the sparse dictionary to csr matrix\n",
    "def sparse_dict_to_csr(row):\n",
    "    size = row['size']\n",
    "    indices = row['indices']\n",
    "    values = row['values']\n",
    "    # row vector, shape=(1, size)\n",
    "    return csr_matrix((values, (np.zeros_like(indices), indices)), shape=(1, size))\n",
    "\n",
    "def get_scipy_sparse_csr_matrix(data, numeric_columns, onehot_vector_column='features'):\n",
    "    '''\n",
    "    Converts a pandas dataframe containing numerical columns and a single column that contains vector of one hot encoded dummy variables\n",
    "    Return a scipy sparse csr matrix\n",
    "    '''\n",
    "    # First convert each value i.e. sparse dict to a sparse csr vertically stack them\n",
    "    X_sparse = vstack([sparse_dict_to_csr(row) for row in data[onehot_vector_column]])\n",
    "    # We need to convert all numeric features to sparse matrix too and horizontally stack with the above \"features\" sparse matrix \n",
    "    X_numeric = data[numeric_columns].to_numpy() # Dense matrix\n",
    "    X_numeric_sparse = csr_matrix(X_numeric)   # Sparse matrix\n",
    "    # concatenate the numeric and ohe columns into one numpy matrix\n",
    "    X_all = hstack([X_numeric_sparse, X_sparse])\n",
    "    print(X_all.shape)\n",
    "    #print(X_all)\n",
    "    #print_csr_matrix(X_all)\n",
    "    return X_all"
   ]
  },
  {
   "cell_type": "code",
   "execution_count": 99,
   "id": "8c68b1fd-ead6-4b1a-bb0f-116fb5a441f4",
   "metadata": {},
   "outputs": [
    {
     "name": "stdout",
     "output_type": "stream",
     "text": [
      "(144920, 9335)\n"
     ]
    }
   ],
   "source": [
    "data2 = data#.sample(10000)\n",
    "num_features = [\"passenger_count\", \"trip_distance\", \"vendorid\"]\n",
    "X_numeric = data2[num_features].to_numpy() # First convert each value i.e. sparse dict to a sparse csr vertically stack them\n",
    "X_sparse = vstack([sparse_dict_to_csr(row) for row in data2['features']])\n",
    "#print(data2['features'])\n",
    "#print_csr_matrix(X_sparse)\n",
    "# We need to convert all numeric features to sparse matrix too and horizontally stack with the above \"features\" sparse matrix \n",
    "X_numeric_sparse = csr_matrix(X_numeric)\n",
    "#print_csr_matrix(X_numeric_sparse)\n",
    "X_all = hstack([X_numeric_sparse, X_sparse])\n",
    "print(X_all.shape)\n",
    "#print(X_all)\n",
    "#print_csr_matrix(X_all)"
   ]
  },
  {
   "cell_type": "code",
   "execution_count": 87,
   "id": "a27cabf5-7505-441b-82a6-c3d3677d5a46",
   "metadata": {},
   "outputs": [],
   "source": []
  },
  {
   "cell_type": "code",
   "execution_count": 88,
   "id": "55466ad7-4b3f-4eba-95b7-1c34a1d5adfb",
   "metadata": {},
   "outputs": [],
   "source": []
  },
  {
   "cell_type": "code",
   "execution_count": 125,
   "id": "2ff2a348-10f3-4bab-88c4-dc788bdcb832",
   "metadata": {},
   "outputs": [],
   "source": [
    "target_var = \"trip_duration_mins\"\n",
    "features = \"features|passenger_count|trip_distance|vendorid|ratecodeid|day_of_week|day_of_month|month_of_year|hour_of_day|week_of_year\" \n",
    "features = features.split('|')"
   ]
  },
  {
   "cell_type": "code",
   "execution_count": 126,
   "id": "601aeffe-fcc6-41b1-99c9-14b82aa731fe",
   "metadata": {},
   "outputs": [
    {
     "name": "stdout",
     "output_type": "stream",
     "text": [
      "['passenger_count', 'trip_distance', 'vendorid', 'ratecodeid', 'day_of_week', 'day_of_month', 'month_of_year', 'hour_of_day', 'week_of_year']\n"
     ]
    }
   ],
   "source": [
    "train = data.sample(10)\n",
    "train_target = train[target_var]\n",
    "train = train[features]\n",
    "    \n",
    "list(train.columns)\n",
    "list(train.dtypes)\n",
    "numeric_columns = train.select_dtypes(include=[\"number\"]).columns.tolist()\n",
    "print(numeric_columns)\n"
   ]
  },
  {
   "cell_type": "code",
   "execution_count": 127,
   "id": "01c285b9-20eb-4635-91ea-e82866bafbcc",
   "metadata": {},
   "outputs": [
    {
     "name": "stdout",
     "output_type": "stream",
     "text": [
      "(10, 9341)\n"
     ]
    }
   ],
   "source": [
    "if 'features' in features: # if one hot encode feature vectors is saved under column \"features\"\n",
    "    train_np = get_scipy_sparse_csr_matrix(train, numeric_columns, onehot_vector_column='features')\n",
    "else:\n",
    "    train_np = train[features].values"
   ]
  },
  {
   "cell_type": "code",
   "execution_count": 128,
   "id": "10abe1d9-8df2-4647-9b10-1e6068bf8715",
   "metadata": {},
   "outputs": [
    {
     "name": "stdout",
     "output_type": "stream",
     "text": [
      "<Compressed Sparse Row sparse matrix of dtype 'float64'\n",
      "\twith 99 stored elements and shape (10, 9341)>\n",
      "  Coords\tValues\n",
      "  (0, 0)\t1.0\n",
      "  (0, 1)\t0.99\n",
      "  (0, 2)\t2.0\n",
      "  (0, 3)\t1.0\n",
      "  (0, 4)\t1.0\n",
      "  (0, 5)\t1.0\n",
      "  (0, 6)\t9.0\n",
      "  (0, 7)\t3.0\n",
      "  (0, 8)\t35.0\n",
      "  (0, 824)\t1.0\n",
      "  (1, 0)\t1.0\n",
      "  (1, 1)\t3.0\n",
      "  (1, 2)\t2.0\n",
      "  (1, 3)\t1.0\n",
      "  (1, 4)\t1.0\n",
      "  (1, 5)\t1.0\n",
      "  (1, 6)\t9.0\n",
      "  (1, 7)\t14.0\n",
      "  (1, 8)\t35.0\n",
      "  (1, 1061)\t1.0\n",
      "  (2, 0)\t1.0\n",
      "  (2, 1)\t3.19\n",
      "  (2, 2)\t2.0\n",
      "  (2, 3)\t1.0\n",
      "  (2, 4)\t1.0\n",
      "  :\t:\n",
      "  (7, 4)\t1.0\n",
      "  (7, 5)\t1.0\n",
      "  (7, 6)\t9.0\n",
      "  (7, 8)\t35.0\n",
      "  (7, 1952)\t1.0\n",
      "  (8, 0)\t1.0\n",
      "  (8, 1)\t10.82\n",
      "  (8, 2)\t2.0\n",
      "  (8, 3)\t1.0\n",
      "  (8, 4)\t1.0\n",
      "  (8, 5)\t1.0\n",
      "  (8, 6)\t9.0\n",
      "  (8, 7)\t7.0\n",
      "  (8, 8)\t35.0\n",
      "  (8, 1371)\t1.0\n",
      "  (9, 0)\t1.0\n",
      "  (9, 1)\t14.59\n",
      "  (9, 2)\t2.0\n",
      "  (9, 3)\t1.0\n",
      "  (9, 4)\t1.0\n",
      "  (9, 5)\t1.0\n",
      "  (9, 6)\t9.0\n",
      "  (9, 7)\t12.0\n",
      "  (9, 8)\t35.0\n",
      "  (9, 2065)\t1.0\n"
     ]
    }
   ],
   "source": [
    "print(train_np)"
   ]
  },
  {
   "cell_type": "code",
   "execution_count": 3,
   "id": "f659ae9e-0987-41cd-8141-08cb0d871a7a",
   "metadata": {},
   "outputs": [],
   "source": [
    "import pandas as pd\n",
    "data  = pd.read_parquet(\"/home/sagemaker-user/part-00717-a2fc98e8-9f09-4957-9e18-33363f703c76.c000.snappy.parquet\")"
   ]
  },
  {
   "cell_type": "code",
   "execution_count": 5,
   "id": "5c930804-02c3-446b-af2b-a9fdcb0f8e83",
   "metadata": {},
   "outputs": [
    {
     "data": {
      "text/html": [
       "<div>\n",
       "<style scoped>\n",
       "    .dataframe tbody tr th:only-of-type {\n",
       "        vertical-align: middle;\n",
       "    }\n",
       "\n",
       "    .dataframe tbody tr th {\n",
       "        vertical-align: top;\n",
       "    }\n",
       "\n",
       "    .dataframe thead th {\n",
       "        text-align: right;\n",
       "    }\n",
       "</style>\n",
       "<table border=\"1\" class=\"dataframe\">\n",
       "  <thead>\n",
       "    <tr style=\"text-align: right;\">\n",
       "      <th></th>\n",
       "      <th>vendorid</th>\n",
       "      <th>tpep_pickup_datetime</th>\n",
       "      <th>tpep_dropoff_datetime</th>\n",
       "      <th>passenger_count</th>\n",
       "      <th>trip_distance</th>\n",
       "      <th>ratecodeid</th>\n",
       "      <th>store_and_fwd_flag</th>\n",
       "      <th>pulocationid</th>\n",
       "      <th>dolocationid</th>\n",
       "      <th>payment_type</th>\n",
       "      <th>fare_amount</th>\n",
       "      <th>extra</th>\n",
       "      <th>mta_tax</th>\n",
       "      <th>tip_amount</th>\n",
       "      <th>tolls_amount</th>\n",
       "      <th>improvement_surcharge</th>\n",
       "      <th>total_amount</th>\n",
       "      <th>congestion_surcharge</th>\n",
       "      <th>airport_fee</th>\n",
       "      <th>cbd_congestion_fee</th>\n",
       "    </tr>\n",
       "  </thead>\n",
       "  <tbody>\n",
       "    <tr>\n",
       "      <th>0</th>\n",
       "      <td>2</td>\n",
       "      <td>2024-03-07 00:00:25</td>\n",
       "      <td>2024-03-07 00:12:00</td>\n",
       "      <td>1</td>\n",
       "      <td>4.94</td>\n",
       "      <td>1</td>\n",
       "      <td>N</td>\n",
       "      <td>132</td>\n",
       "      <td>219</td>\n",
       "      <td>1</td>\n",
       "      <td>21.2</td>\n",
       "      <td>1.0</td>\n",
       "      <td>0.5</td>\n",
       "      <td>0.00</td>\n",
       "      <td>0.00</td>\n",
       "      <td>1.0</td>\n",
       "      <td>25.45</td>\n",
       "      <td>0.0</td>\n",
       "      <td>1.75</td>\n",
       "      <td>NaN</td>\n",
       "    </tr>\n",
       "    <tr>\n",
       "      <th>1</th>\n",
       "      <td>2</td>\n",
       "      <td>2024-03-07 00:06:11</td>\n",
       "      <td>2024-03-07 00:18:16</td>\n",
       "      <td>1</td>\n",
       "      <td>1.58</td>\n",
       "      <td>1</td>\n",
       "      <td>N</td>\n",
       "      <td>230</td>\n",
       "      <td>170</td>\n",
       "      <td>1</td>\n",
       "      <td>12.1</td>\n",
       "      <td>1.0</td>\n",
       "      <td>0.5</td>\n",
       "      <td>1.71</td>\n",
       "      <td>0.00</td>\n",
       "      <td>1.0</td>\n",
       "      <td>18.81</td>\n",
       "      <td>2.5</td>\n",
       "      <td>0.00</td>\n",
       "      <td>NaN</td>\n",
       "    </tr>\n",
       "    <tr>\n",
       "      <th>2</th>\n",
       "      <td>1</td>\n",
       "      <td>2024-03-07 00:32:39</td>\n",
       "      <td>2024-03-07 00:40:04</td>\n",
       "      <td>1</td>\n",
       "      <td>0.40</td>\n",
       "      <td>1</td>\n",
       "      <td>N</td>\n",
       "      <td>140</td>\n",
       "      <td>141</td>\n",
       "      <td>2</td>\n",
       "      <td>5.8</td>\n",
       "      <td>3.5</td>\n",
       "      <td>0.5</td>\n",
       "      <td>0.00</td>\n",
       "      <td>0.00</td>\n",
       "      <td>1.0</td>\n",
       "      <td>10.80</td>\n",
       "      <td>2.5</td>\n",
       "      <td>0.00</td>\n",
       "      <td>NaN</td>\n",
       "    </tr>\n",
       "    <tr>\n",
       "      <th>3</th>\n",
       "      <td>1</td>\n",
       "      <td>2024-03-07 00:09:09</td>\n",
       "      <td>2024-03-07 00:16:58</td>\n",
       "      <td>0</td>\n",
       "      <td>1.30</td>\n",
       "      <td>1</td>\n",
       "      <td>N</td>\n",
       "      <td>246</td>\n",
       "      <td>158</td>\n",
       "      <td>1</td>\n",
       "      <td>10.0</td>\n",
       "      <td>3.5</td>\n",
       "      <td>0.5</td>\n",
       "      <td>3.00</td>\n",
       "      <td>0.00</td>\n",
       "      <td>1.0</td>\n",
       "      <td>18.00</td>\n",
       "      <td>2.5</td>\n",
       "      <td>0.00</td>\n",
       "      <td>NaN</td>\n",
       "    </tr>\n",
       "    <tr>\n",
       "      <th>4</th>\n",
       "      <td>2</td>\n",
       "      <td>2024-03-07 00:06:41</td>\n",
       "      <td>2024-03-07 00:24:36</td>\n",
       "      <td>1</td>\n",
       "      <td>10.67</td>\n",
       "      <td>1</td>\n",
       "      <td>N</td>\n",
       "      <td>129</td>\n",
       "      <td>47</td>\n",
       "      <td>2</td>\n",
       "      <td>40.8</td>\n",
       "      <td>1.0</td>\n",
       "      <td>0.5</td>\n",
       "      <td>0.00</td>\n",
       "      <td>6.94</td>\n",
       "      <td>1.0</td>\n",
       "      <td>50.24</td>\n",
       "      <td>0.0</td>\n",
       "      <td>0.00</td>\n",
       "      <td>NaN</td>\n",
       "    </tr>\n",
       "  </tbody>\n",
       "</table>\n",
       "</div>"
      ],
      "text/plain": [
       "   vendorid tpep_pickup_datetime tpep_dropoff_datetime  passenger_count  \\\n",
       "0         2  2024-03-07 00:00:25   2024-03-07 00:12:00                1   \n",
       "1         2  2024-03-07 00:06:11   2024-03-07 00:18:16                1   \n",
       "2         1  2024-03-07 00:32:39   2024-03-07 00:40:04                1   \n",
       "3         1  2024-03-07 00:09:09   2024-03-07 00:16:58                0   \n",
       "4         2  2024-03-07 00:06:41   2024-03-07 00:24:36                1   \n",
       "\n",
       "   trip_distance  ratecodeid store_and_fwd_flag  pulocationid  dolocationid  \\\n",
       "0           4.94           1                  N           132           219   \n",
       "1           1.58           1                  N           230           170   \n",
       "2           0.40           1                  N           140           141   \n",
       "3           1.30           1                  N           246           158   \n",
       "4          10.67           1                  N           129            47   \n",
       "\n",
       "   payment_type  fare_amount  extra  mta_tax  tip_amount  tolls_amount  \\\n",
       "0             1         21.2    1.0      0.5        0.00          0.00   \n",
       "1             1         12.1    1.0      0.5        1.71          0.00   \n",
       "2             2          5.8    3.5      0.5        0.00          0.00   \n",
       "3             1         10.0    3.5      0.5        3.00          0.00   \n",
       "4             2         40.8    1.0      0.5        0.00          6.94   \n",
       "\n",
       "   improvement_surcharge  total_amount  congestion_surcharge  airport_fee  \\\n",
       "0                    1.0         25.45                   0.0         1.75   \n",
       "1                    1.0         18.81                   2.5         0.00   \n",
       "2                    1.0         10.80                   2.5         0.00   \n",
       "3                    1.0         18.00                   2.5         0.00   \n",
       "4                    1.0         50.24                   0.0         0.00   \n",
       "\n",
       "   cbd_congestion_fee  \n",
       "0                 NaN  \n",
       "1                 NaN  \n",
       "2                 NaN  \n",
       "3                 NaN  \n",
       "4                 NaN  "
      ]
     },
     "execution_count": 5,
     "metadata": {},
     "output_type": "execute_result"
    }
   ],
   "source": [
    "data.head()"
   ]
  },
  {
   "cell_type": "code",
   "execution_count": 9,
   "id": "2429f0ff-b878-40f7-bc63-4265cc5430ab",
   "metadata": {},
   "outputs": [],
   "source": [
    "data_path = \"/home/sagemaker-user/Code/NYC_Taxi_Prediction/part-00000-56406aea-6a52-4e8a-89b7-f56010e3948c-c000.snappy.parquet\""
   ]
  },
  {
   "cell_type": "code",
   "execution_count": null,
   "id": "344f6680-5660-46c3-b9b0-8d655542108d",
   "metadata": {},
   "outputs": [],
   "source": []
  },
  {
   "cell_type": "code",
   "execution_count": 11,
   "id": "7d94ff24-405f-41f3-8f9f-2a2de17f98b8",
   "metadata": {},
   "outputs": [
    {
     "data": {
      "text/html": [
       "<div>\n",
       "<style scoped>\n",
       "    .dataframe tbody tr th:only-of-type {\n",
       "        vertical-align: middle;\n",
       "    }\n",
       "\n",
       "    .dataframe tbody tr th {\n",
       "        vertical-align: top;\n",
       "    }\n",
       "\n",
       "    .dataframe thead th {\n",
       "        text-align: right;\n",
       "    }\n",
       "</style>\n",
       "<table border=\"1\" class=\"dataframe\">\n",
       "  <thead>\n",
       "    <tr style=\"text-align: right;\">\n",
       "      <th></th>\n",
       "      <th>trip_duration_mins</th>\n",
       "      <th>tpep_pickup_datetime</th>\n",
       "      <th>tpep_dropoff_datetime</th>\n",
       "      <th>pulocationid</th>\n",
       "      <th>dolocationid</th>\n",
       "      <th>passenger_count</th>\n",
       "      <th>trip_distance</th>\n",
       "      <th>vendorid</th>\n",
       "      <th>ratecodeid</th>\n",
       "      <th>day_of_week</th>\n",
       "      <th>day_of_month</th>\n",
       "      <th>month_of_year</th>\n",
       "      <th>hour_of_day</th>\n",
       "      <th>week_of_year</th>\n",
       "      <th>features</th>\n",
       "    </tr>\n",
       "  </thead>\n",
       "  <tbody>\n",
       "    <tr>\n",
       "      <th>0</th>\n",
       "      <td>11.933</td>\n",
       "      <td>2024-03-14 19:32:33</td>\n",
       "      <td>2024-03-14 19:44:29</td>\n",
       "      <td>164</td>\n",
       "      <td>142</td>\n",
       "      <td>1</td>\n",
       "      <td>2.00</td>\n",
       "      <td>1</td>\n",
       "      <td>1</td>\n",
       "      <td>5</td>\n",
       "      <td>14</td>\n",
       "      <td>3</td>\n",
       "      <td>19</td>\n",
       "      <td>11</td>\n",
       "      <td>{'type': 0, 'size': 40998, 'indices': [714], '...</td>\n",
       "    </tr>\n",
       "    <tr>\n",
       "      <th>1</th>\n",
       "      <td>56.400</td>\n",
       "      <td>2024-02-24 22:26:34</td>\n",
       "      <td>2024-02-24 23:22:58</td>\n",
       "      <td>132</td>\n",
       "      <td>246</td>\n",
       "      <td>2</td>\n",
       "      <td>17.60</td>\n",
       "      <td>1</td>\n",
       "      <td>2</td>\n",
       "      <td>7</td>\n",
       "      <td>24</td>\n",
       "      <td>2</td>\n",
       "      <td>22</td>\n",
       "      <td>8</td>\n",
       "      <td>{'type': 0, 'size': 40998, 'indices': [1338], ...</td>\n",
       "    </tr>\n",
       "    <tr>\n",
       "      <th>2</th>\n",
       "      <td>18.800</td>\n",
       "      <td>2024-03-14 18:34:07</td>\n",
       "      <td>2024-03-14 18:52:55</td>\n",
       "      <td>236</td>\n",
       "      <td>164</td>\n",
       "      <td>1</td>\n",
       "      <td>2.33</td>\n",
       "      <td>2</td>\n",
       "      <td>1</td>\n",
       "      <td>5</td>\n",
       "      <td>14</td>\n",
       "      <td>3</td>\n",
       "      <td>18</td>\n",
       "      <td>11</td>\n",
       "      <td>{'type': 0, 'size': 40998, 'indices': [697], '...</td>\n",
       "    </tr>\n",
       "    <tr>\n",
       "      <th>3</th>\n",
       "      <td>15.967</td>\n",
       "      <td>2024-03-14 19:59:02</td>\n",
       "      <td>2024-03-14 20:15:00</td>\n",
       "      <td>141</td>\n",
       "      <td>151</td>\n",
       "      <td>1</td>\n",
       "      <td>3.20</td>\n",
       "      <td>1</td>\n",
       "      <td>1</td>\n",
       "      <td>5</td>\n",
       "      <td>14</td>\n",
       "      <td>3</td>\n",
       "      <td>19</td>\n",
       "      <td>11</td>\n",
       "      <td>{'type': 0, 'size': 40998, 'indices': [1611], ...</td>\n",
       "    </tr>\n",
       "    <tr>\n",
       "      <th>4</th>\n",
       "      <td>20.783</td>\n",
       "      <td>2024-02-29 00:12:03</td>\n",
       "      <td>2024-02-29 00:32:50</td>\n",
       "      <td>186</td>\n",
       "      <td>74</td>\n",
       "      <td>2</td>\n",
       "      <td>5.07</td>\n",
       "      <td>2</td>\n",
       "      <td>1</td>\n",
       "      <td>5</td>\n",
       "      <td>29</td>\n",
       "      <td>2</td>\n",
       "      <td>0</td>\n",
       "      <td>9</td>\n",
       "      <td>{'type': 0, 'size': 40998, 'indices': [2076], ...</td>\n",
       "    </tr>\n",
       "  </tbody>\n",
       "</table>\n",
       "</div>"
      ],
      "text/plain": [
       "   trip_duration_mins tpep_pickup_datetime tpep_dropoff_datetime  \\\n",
       "0              11.933  2024-03-14 19:32:33   2024-03-14 19:44:29   \n",
       "1              56.400  2024-02-24 22:26:34   2024-02-24 23:22:58   \n",
       "2              18.800  2024-03-14 18:34:07   2024-03-14 18:52:55   \n",
       "3              15.967  2024-03-14 19:59:02   2024-03-14 20:15:00   \n",
       "4              20.783  2024-02-29 00:12:03   2024-02-29 00:32:50   \n",
       "\n",
       "   pulocationid  dolocationid  passenger_count  trip_distance  vendorid  \\\n",
       "0           164           142                1           2.00         1   \n",
       "1           132           246                2          17.60         1   \n",
       "2           236           164                1           2.33         2   \n",
       "3           141           151                1           3.20         1   \n",
       "4           186            74                2           5.07         2   \n",
       "\n",
       "   ratecodeid  day_of_week  day_of_month  month_of_year  hour_of_day  \\\n",
       "0           1            5            14              3           19   \n",
       "1           2            7            24              2           22   \n",
       "2           1            5            14              3           18   \n",
       "3           1            5            14              3           19   \n",
       "4           1            5            29              2            0   \n",
       "\n",
       "   week_of_year                                           features  \n",
       "0            11  {'type': 0, 'size': 40998, 'indices': [714], '...  \n",
       "1             8  {'type': 0, 'size': 40998, 'indices': [1338], ...  \n",
       "2            11  {'type': 0, 'size': 40998, 'indices': [697], '...  \n",
       "3            11  {'type': 0, 'size': 40998, 'indices': [1611], ...  \n",
       "4             9  {'type': 0, 'size': 40998, 'indices': [2076], ...  "
      ]
     },
     "execution_count": 11,
     "metadata": {},
     "output_type": "execute_result"
    }
   ],
   "source": [
    "import pandas as pd   \n",
    "data = pd.read_parquet(data_path)\n",
    "data.head()"
   ]
  },
  {
   "cell_type": "code",
   "execution_count": 46,
   "id": "14558a45-7cb7-415a-97a4-4a4732bac1c0",
   "metadata": {},
   "outputs": [
    {
     "name": "stdout",
     "output_type": "stream",
     "text": [
      "5667\n"
     ]
    }
   ],
   "source": [
    "data['pickup_drop_location'] = data['pulocationid'].astype('str') +'-'+ data['dolocationid'].astype('str')\n",
    "data['pickup_drop_location'] = data['pickup_drop_location'].astype('category')\n",
    "data['pickup_drop_location'].value_counts()\n",
    "print(data['pickup_drop_location'].nunique())"
   ]
  },
  {
   "cell_type": "code",
   "execution_count": 33,
   "id": "6f6c8af2-8f5f-40b5-b186-81cc8b1543b3",
   "metadata": {},
   "outputs": [
    {
     "data": {
      "text/plain": [
       "(33190, 16)"
      ]
     },
     "execution_count": 33,
     "metadata": {},
     "output_type": "execute_result"
    }
   ],
   "source": [
    "data.sample(frac=.5).shape"
   ]
  },
  {
   "cell_type": "code",
   "execution_count": 30,
   "id": "b4017009-8ae1-41e0-9a9d-315c53dde64e",
   "metadata": {},
   "outputs": [
    {
     "data": {
      "text/plain": [
       "(66379, 16)"
      ]
     },
     "execution_count": 30,
     "metadata": {},
     "output_type": "execute_result"
    }
   ],
   "source": [
    "data.shape"
   ]
  },
  {
   "cell_type": "code",
   "execution_count": 34,
   "id": "3047483e-c375-43c4-8148-a39227a50922",
   "metadata": {
    "scrolled": true
   },
   "outputs": [],
   "source": [
    "temp = data['pickup_drop_location'].value_counts()"
   ]
  },
  {
   "cell_type": "code",
   "execution_count": 48,
   "id": "088b18f0-54d1-4e2e-8dac-cace43c14c10",
   "metadata": {},
   "outputs": [],
   "source": [
    "rare_trips = list(temp[temp < 20].index)\n",
    "import numpy as np\n",
    "data['pickup_drop_location'] = np.where(data['pickup_drop_location'].isin(rare_trips), 'Other',data['pickup_drop_location'])"
   ]
  },
  {
   "cell_type": "code",
   "execution_count": 50,
   "id": "d0bcd91b-5575-46c2-a9e5-88bd78073535",
   "metadata": {},
   "outputs": [
    {
     "data": {
      "text/plain": [
       "pickup_drop_location\n",
       "Other      19127\n",
       "237-236      479\n",
       "236-237      439\n",
       "236-236      332\n",
       "237-237      326\n",
       "           ...  \n",
       "48-100        20\n",
       "239-186       20\n",
       "164-211       20\n",
       "141-164       20\n",
       "263-143       20\n",
       "Name: count, Length: 935, dtype: int64"
      ]
     },
     "execution_count": 50,
     "metadata": {},
     "output_type": "execute_result"
    }
   ],
   "source": [
    "data['pickup_drop_location'].value_counts()"
   ]
  }
 ],
 "metadata": {
  "kernelspec": {
   "display_name": "Python 3 (ipykernel)",
   "language": "python",
   "name": "python3"
  },
  "language_info": {
   "codemirror_mode": {
    "name": "ipython",
    "version": 3
   },
   "file_extension": ".py",
   "mimetype": "text/x-python",
   "name": "python",
   "nbconvert_exporter": "python",
   "pygments_lexer": "ipython3",
   "version": "3.12.9"
  }
 },
 "nbformat": 4,
 "nbformat_minor": 5
}
