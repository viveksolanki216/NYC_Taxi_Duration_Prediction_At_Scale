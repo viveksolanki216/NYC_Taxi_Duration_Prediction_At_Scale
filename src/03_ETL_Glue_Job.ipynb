{
 "cells": [
  {
   "metadata": {},
   "cell_type": "markdown",
   "source": [
    "# ETL Glue Job for Harmonizing NYC Taxi Data Schema\n",
    "We need to unify the schema of different parquet files of NYC Taxi data before we can analyze it using Athena or any other tool\n",
    "- We process 5 years of data that is around 100-150M rows in total\n",
    "- A pyspark script based Glue ETL job is used to harmonize the schema of the data\n",
    "- Reads data from S3, harmonizes the schema, and writes the corrected data back to S3\n",
    "- Create a Glue data catalog table from the processed data (s3)"
   ],
   "id": "26c77bbfd0d26f9a"
  },
  {
   "cell_type": "code",
   "execution_count": 112,
   "id": "721d951f-af0a-47a7-99c1-4b5bc07dc5fa",
   "metadata": {},
   "outputs": [],
   "source": [
    "import boto3\n",
    "import sagemaker"
   ]
  },
  {
   "cell_type": "code",
   "execution_count": 113,
   "id": "73c093d3-2a69-484c-a4fa-208600e3613e",
   "metadata": {},
   "outputs": [],
   "source": [
    "# Configurations\n",
    "job_name = \"harmonize-nyc-taxi\"\n",
    "role_name = \"AmazonSageMakerServiceCatalogProductsGlueRole\"  # Change to your IAM role name\n",
    "script_local_path = \"scripts/harmonize_schema.py\"\n",
    "BUCKET = \"sagemaker-us-east-1-205930620783\"\n",
    "PREFIX = \"NYC_Taxi_Prediction\"\n",
    "script_local_path = \"harmonize_schema_nyc_data.py\"\n",
    "script_s3_path = \"s3://{}/{}/scripts\".format(BUCKET, PREFIX)\n",
    "input_path = \"s3://{}/{}/data/raw_data\".format(BUCKET, PREFIX)\n",
    "output_path = \"s3://{}/{}/data/schema_corrected_data\".format(BUCKET, PREFIX)\n",
    "glue_version = \"4.0\"\n",
    "worker_type = \"G.1X\"\n",
    "number_of_workers = 5\n",
    "region = \"us-east-1\""
   ]
  },
  {
   "cell_type": "code",
   "execution_count": 114,
   "id": "925c44db-744a-429a-8494-afb64120bc3b",
   "metadata": {},
   "outputs": [],
   "source": [
    "s3 = boto3.client(\"s3\")\n",
    "glue = boto3.client(\"glue\")"
   ]
  },
  {
   "cell_type": "markdown",
   "id": "7dec42cf-e193-4db0-bc21-46ff96e6475a",
   "metadata": {},
   "source": [
    "### First Copy the Script to S3 Location"
   ]
  },
  {
   "cell_type": "code",
   "id": "d5aae0d8-2256-438d-a293-01dc0f997e56",
   "metadata": {},
   "source": [
    "bucket, key = script_s3_path.replace(\"s3://\", \"\").split(\"/\",1)\n",
    "print(bucket,key)\n",
    "#help(s3.put_object)\n",
    "s3.upload_file(Filename=script_local_path, Bucket=bucket, Key=f\"{key}/harmonize_schema_nyc_data.py\")"
   ],
   "outputs": [],
   "execution_count": null
  },
  {
   "cell_type": "code",
   "id": "f1faca14-1d79-4422-bec6-66ce3c65b39c",
   "metadata": {},
   "source": [
    "bucket, key = input_path.replace(\"s3://\", \"\").split(\"/\",1)\n",
    "print(bucket,key)\n",
    "response = s3.list_objects_v2(Bucket=bucket, Prefix=key)\n",
    "#print(response)\n",
    "files = [f\"s3://{bucket}/{obj['Key']}\" for obj in response['Contents'] if obj['Key'].endswith('.parquet')]\n",
    "print(files[0])\n",
    "print(len(files))"
   ],
   "outputs": [],
   "execution_count": null
  },
  {
   "cell_type": "code",
   "id": "3a48e3d4-09f5-40e9-8cbb-ad0f91b3aea1",
   "metadata": {},
   "source": [
    "f\"s3://{script_s3_path.split('/')[2]}/glue-temp/\""
   ],
   "outputs": [],
   "execution_count": null
  },
  {
   "cell_type": "markdown",
   "id": "dbe7ea1d-ab0e-481f-b5f7-3f88e133e2b2",
   "metadata": {},
   "source": [
    "### Create Glue ETL Job"
   ]
  },
  {
   "cell_type": "code",
   "execution_count": 118,
   "id": "febeb089-9ba0-40fa-8faf-ca35437a1ed0",
   "metadata": {},
   "outputs": [
    {
     "name": "stdout",
     "output_type": "stream",
     "text": [
      "Glue Job created: harmonize-nyc-taxi\n"
     ]
    }
   ],
   "source": [
    "try: \n",
    "    response = glue.create_job(\n",
    "        Name=job_name,\n",
    "        Role=role_name,\n",
    "        ExecutionProperty={\"MaxConcurrentRuns\": 1}, # This says if job is already running the second instance won't run \n",
    "        Command={\n",
    "            \"Name\": \"glueetl\",\n",
    "            \"ScriptLocation\": f\"{script_s3_path}/harmonize_schema_nyc_data.py\",\n",
    "            \"PythonVersion\":\"3\"\n",
    "        },\n",
    "        GlueVersion=glue_version,\n",
    "        WorkerType=worker_type,\n",
    "        NumberOfWorkers=number_of_workers,\n",
    "        DefaultArguments={\n",
    "            \"--job-language\": \"python\",\n",
    "            \"--enable-continuous-cloudwatch-log\": \"true\",\n",
    "            \"--enable-metrics\": \"\",\n",
    "            \"--input_path\": input_path,\n",
    "            \"--output_path\": output_path,\n",
    "            \"--TempDir\": f\"s3://{script_s3_path.split('/')[2]}/glue-temp/\"\n",
    "        },\n",
    "        MaxRetries=0,\n",
    "        Timeout=60\n",
    "    )\n",
    "    print(f\"Glue Job created: {response['Name']}\")\n",
    "\n",
    "except glue.exceptions.AlreadyExistsException:\n",
    "    print(f\"Glue Job already exists: {job_name}\")"
   ]
  },
  {
   "cell_type": "markdown",
   "id": "1ed6b0bb-0a02-4344-9e31-b28919957f64",
   "metadata": {},
   "source": [
    "### Run the Glue Job"
   ]
  },
  {
   "cell_type": "code",
   "id": "1bbf184e-c7f8-4523-bfa7-9880f3832b0a",
   "metadata": {},
   "source": [
    "response = glue.start_job_run(JobName=job_name)\n",
    "run_id = response[\"JobRunId\"] \n",
    "print(f\"Job started: {job_name}, Run ID: {run_id}\")"
   ],
   "outputs": [],
   "execution_count": null
  },
  {
   "cell_type": "code",
   "execution_count": 120,
   "id": "e0153c8e-d1d6-4a33-ac30-728b56bc2893",
   "metadata": {},
   "outputs": [
    {
     "name": "stdout",
     "output_type": "stream",
     "text": [
      "Job status: RUNNING\n",
      "Final status: RUNNING\n",
      "Job status: RUNNING\n",
      "Final status: RUNNING\n",
      "Job status: RUNNING\n",
      "Final status: RUNNING\n",
      "Job status: RUNNING\n",
      "Final status: RUNNING\n",
      "Job status: RUNNING\n",
      "Final status: RUNNING\n",
      "Job status: RUNNING\n",
      "Final status: RUNNING\n",
      "Job status: RUNNING\n",
      "Final status: RUNNING\n",
      "Job status: RUNNING\n",
      "Final status: RUNNING\n",
      "Job status: RUNNING\n",
      "Final status: RUNNING\n",
      "Job status: RUNNING\n",
      "Final status: RUNNING\n",
      "Job status: RUNNING\n",
      "Final status: RUNNING\n",
      "Job status: RUNNING\n",
      "Final status: RUNNING\n",
      "Job status: RUNNING\n",
      "Final status: RUNNING\n",
      "Job status: SUCCEEDED\n"
     ]
    }
   ],
   "source": [
    "import time\n",
    "while True:\n",
    "    response = glue.get_job_run(JobName=job_name, RunId=run_id)\n",
    "    state = response[\"JobRun\"][\"JobRunState\"]\n",
    "    print(f\"Job status: {state}\")\n",
    "    if state in [\"SUCCEEDED\", \"FAILED\", \"STOPPED\", \"TIMEOUT\"]:\n",
    "        break\n",
    "    time.sleep(30)\n",
    "    print(f\"Final status: {state}\")"
   ]
  }
 ],
 "metadata": {
  "kernelspec": {
   "display_name": "Python 3 (ipykernel)",
   "language": "python",
   "name": "python3"
  },
  "language_info": {
   "codemirror_mode": {
    "name": "ipython",
    "version": 3
   },
   "file_extension": ".py",
   "mimetype": "text/x-python",
   "name": "python",
   "nbconvert_exporter": "python",
   "pygments_lexer": "ipython3",
   "version": "3.12.9"
  }
 },
 "nbformat": 4,
 "nbformat_minor": 5
}
